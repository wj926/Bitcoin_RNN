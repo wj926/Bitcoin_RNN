{
 "cells": [
  {
   "cell_type": "markdown",
   "metadata": {},
   "source": [
    "# Bitcoin Recurrent Neural Network\n",
    "- Abstract\n",
    "- Long short-term memory(LSTM)\n"
   ]
  },
  {
   "cell_type": "markdown",
   "metadata": {},
   "source": [
    "## 1. Settings\n",
    "### 1) Import required libraries"
   ]
  },
  {
   "cell_type": "code",
   "execution_count": 1,
   "metadata": {
    "collapsed": true
   },
   "outputs": [],
   "source": [
    "import torch\n",
    "import torch.nn as nn\n",
    "from torch.autograd import Variable\n",
    "from visdom import Visdom\n",
    "viz = Visdom()"
   ]
  },
  {
   "cell_type": "code",
   "execution_count": 2,
   "metadata": {
    "collapsed": true
   },
   "outputs": [],
   "source": [
    "import unidecode\n",
    "import string\n",
    "import random\n",
    "import re\n",
    "import time, math\n",
    "from utils2 import *\n",
    "import matplotlib.pyplot as plt"
   ]
  },
  {
   "cell_type": "markdown",
   "metadata": {},
   "source": [
    "## 2) Hyperparameter"
   ]
  },
  {
   "cell_type": "code",
   "execution_count": 3,
   "metadata": {
    "collapsed": true
   },
   "outputs": [],
   "source": [
    "num_epochs = 5000\n",
    "hidden_size = 100\n",
    "output_size=1\n",
    "batch_size =1\n",
    "num_layers = 3\n",
    "lr = 0.002\n",
    "NUM_STEPS = 500\n",
    "chunk_len=500\n",
    "path = './data/bitstamp.csv'"
   ]
  },
  {
   "cell_type": "code",
   "execution_count": 4,
   "metadata": {
    "collapsed": true
   },
   "outputs": [],
   "source": [
    "# train Parameters\n",
    "seq_length = 200\n",
    "sub_seq_length = 150\n",
    "data_dim = 18\n",
    "hidden_dim = 10\n",
    "output_dim = 1\n",
    "learning_rate = 0.01\n",
    "iterations = 101\n",
    "plot_name = 'LSTM_new_01'"
   ]
  },
  {
   "cell_type": "markdown",
   "metadata": {},
   "source": [
    "## 2. Data"
   ]
  },
  {
   "cell_type": "markdown",
   "metadata": {},
   "source": [
    "### 2) Get data"
   ]
  },
  {
   "cell_type": "code",
   "execution_count": 5,
   "metadata": {
    "collapsed": true
   },
   "outputs": [],
   "source": [
    "data = data_loading(path)"
   ]
  },
  {
   "cell_type": "code",
   "execution_count": 6,
   "metadata": {},
   "outputs": [
    {
     "data": {
      "text/plain": [
       "2171"
      ]
     },
     "execution_count": 6,
     "metadata": {},
     "output_type": "execute_result"
    }
   ],
   "source": [
    "len(data)"
   ]
  },
  {
   "cell_type": "markdown",
   "metadata": {},
   "source": [
    "### 3) Chunk into input & label"
   ]
  },
  {
   "cell_type": "code",
   "execution_count": 7,
   "metadata": {},
   "outputs": [
    {
     "name": "stdout",
     "output_type": "stream",
     "text": [
      "(501, 18)\n"
     ]
    }
   ],
   "source": [
    "def random_chunk():\n",
    "    start_index = random.randint(0, len(data) - chunk_len)\n",
    "    end_index = start_index + chunk_len + 1\n",
    "    return data[start_index:end_index]\n",
    "\n",
    "print(random_chunk().shape)"
   ]
  },
  {
   "cell_type": "code",
   "execution_count": 8,
   "metadata": {
    "collapsed": true
   },
   "outputs": [],
   "source": [
    "def random_training_set():    \n",
    "    chunk = random_chunk()\n",
    "    inp = torch.from_numpy(chunk[:-1])\n",
    "    target = torch.from_numpy(chunk[1:,-1])\n",
    "    return Variable(inp).cuda(), Variable(target).cuda()"
   ]
  },
  {
   "cell_type": "markdown",
   "metadata": {},
   "source": [
    "## 3. Model & Optimizer\n",
    "### 1) Model"
   ]
  },
  {
   "cell_type": "code",
   "execution_count": 9,
   "metadata": {
    "collapsed": true
   },
   "outputs": [],
   "source": [
    "class RNN(nn.Module):\n",
    "    def __init__(self, input_size, hidden_size, output_size, num_layers=3):\n",
    "        super(RNN, self).__init__()\n",
    "        self.input_size = input_size\n",
    "        self.hidden_size = hidden_size\n",
    "        self.output_size = output_size\n",
    "        self.num_layers = num_layers\n",
    "        self.encoder = nn.Linear(input_size, hidden_size)\n",
    "        self.rnn = nn.LSTM(hidden_size,hidden_size,num_layers)\n",
    "        self.decoder = nn.Linear(hidden_size, output_size)\n",
    "    def forward(self, input, hidden,cell):\n",
    "        out = self.encoder(input.view(1,-1))\n",
    "        #out = self.encoder(input)\n",
    "        out,(hidden,cell) = self.rnn(out.view(1,1,-1),(hidden,cell))\n",
    "        out = self.decoder(out.view(batch_size,-1))\n",
    "        return out,hidden,cell\n",
    "    def init_hidden(self):\n",
    "        hidden = Variable(torch.zeros(num_layers,batch_size,hidden_size)).cuda()\n",
    "        cell = Variable(torch.zeros(num_layers,batch_size,hidden_size)).cuda()\n",
    "        return hidden,cell\n",
    "model = RNN(data.shape[1], hidden_size, output_size, num_layers).cuda()"
   ]
  },
  {
   "cell_type": "markdown",
   "metadata": {},
   "source": [
    "### 2) Loss & Optimizer"
   ]
  },
  {
   "cell_type": "code",
   "execution_count": 10,
   "metadata": {
    "collapsed": true
   },
   "outputs": [],
   "source": [
    "optimizer = torch.optim.Adam(model.parameters(), lr=lr)\n",
    "loss_func = nn.MSELoss()"
   ]
  },
  {
   "cell_type": "markdown",
   "metadata": {},
   "source": [
    "### 3) Training"
   ]
  },
  {
   "cell_type": "code",
   "execution_count": 11,
   "metadata": {},
   "outputs": [
    {
     "name": "stdout",
     "output_type": "stream",
     "text": [
      "0\n",
      "\n",
      " Variable containing:\n",
      " 39.6774\n",
      "[torch.cuda.FloatTensor of size 1 (GPU 0)]\n",
      " \n",
      "\n",
      "100\n",
      "\n",
      " Variable containing:\n",
      " 4.3082\n",
      "[torch.cuda.FloatTensor of size 1 (GPU 0)]\n",
      " \n",
      "\n",
      "200\n",
      "\n",
      " Variable containing:\n",
      " 0.9978\n",
      "[torch.cuda.FloatTensor of size 1 (GPU 0)]\n",
      " \n",
      "\n",
      "300\n",
      "\n",
      " Variable containing:\n",
      " 0.9757\n",
      "[torch.cuda.FloatTensor of size 1 (GPU 0)]\n",
      " \n",
      "\n",
      "400\n",
      "\n",
      " Variable containing:\n",
      " 0.5862\n",
      "[torch.cuda.FloatTensor of size 1 (GPU 0)]\n",
      " \n",
      "\n",
      "500\n",
      "\n",
      " Variable containing:\n",
      " 0.6631\n",
      "[torch.cuda.FloatTensor of size 1 (GPU 0)]\n",
      " \n",
      "\n",
      "600\n",
      "\n",
      " Variable containing:\n",
      " 0.1988\n",
      "[torch.cuda.FloatTensor of size 1 (GPU 0)]\n",
      " \n",
      "\n",
      "700\n",
      "\n",
      " Variable containing:\n",
      "1.00000e-02 *\n",
      "  8.4545\n",
      "[torch.cuda.FloatTensor of size 1 (GPU 0)]\n",
      " \n",
      "\n",
      "800\n",
      "\n",
      " Variable containing:\n",
      " 0.3938\n",
      "[torch.cuda.FloatTensor of size 1 (GPU 0)]\n",
      " \n",
      "\n",
      "900\n",
      "\n",
      " Variable containing:\n",
      " 0.5026\n",
      "[torch.cuda.FloatTensor of size 1 (GPU 0)]\n",
      " \n",
      "\n",
      "1000\n",
      "\n",
      " Variable containing:\n",
      " 0.1034\n",
      "[torch.cuda.FloatTensor of size 1 (GPU 0)]\n",
      " \n",
      "\n",
      "1100\n",
      "\n",
      " Variable containing:\n",
      "1.00000e-02 *\n",
      "  8.9844\n",
      "[torch.cuda.FloatTensor of size 1 (GPU 0)]\n",
      " \n",
      "\n",
      "1200\n",
      "\n",
      " Variable containing:\n",
      " 0.4772\n",
      "[torch.cuda.FloatTensor of size 1 (GPU 0)]\n",
      " \n",
      "\n",
      "1300\n",
      "\n",
      " Variable containing:\n",
      " 0.1925\n",
      "[torch.cuda.FloatTensor of size 1 (GPU 0)]\n",
      " \n",
      "\n",
      "1400\n",
      "\n",
      " Variable containing:\n",
      " 0.1443\n",
      "[torch.cuda.FloatTensor of size 1 (GPU 0)]\n",
      " \n",
      "\n",
      "1500\n",
      "\n",
      " Variable containing:\n",
      " 0.2056\n",
      "[torch.cuda.FloatTensor of size 1 (GPU 0)]\n",
      " \n",
      "\n",
      "1600\n",
      "\n",
      " Variable containing:\n",
      " 0.4570\n",
      "[torch.cuda.FloatTensor of size 1 (GPU 0)]\n",
      " \n",
      "\n",
      "1700\n",
      "\n",
      " Variable containing:\n",
      " 0.4948\n",
      "[torch.cuda.FloatTensor of size 1 (GPU 0)]\n",
      " \n",
      "\n",
      "1800\n",
      "\n",
      " Variable containing:\n",
      "1.00000e-02 *\n",
      "  8.5415\n",
      "[torch.cuda.FloatTensor of size 1 (GPU 0)]\n",
      " \n",
      "\n",
      "1900\n",
      "\n",
      " Variable containing:\n",
      " 0.2735\n",
      "[torch.cuda.FloatTensor of size 1 (GPU 0)]\n",
      " \n",
      "\n",
      "2000\n",
      "\n",
      " Variable containing:\n",
      " 0.1324\n",
      "[torch.cuda.FloatTensor of size 1 (GPU 0)]\n",
      " \n",
      "\n",
      "2100\n",
      "\n",
      " Variable containing:\n",
      " 0.4766\n",
      "[torch.cuda.FloatTensor of size 1 (GPU 0)]\n",
      " \n",
      "\n",
      "2200\n",
      "\n",
      " Variable containing:\n",
      " 0.1031\n",
      "[torch.cuda.FloatTensor of size 1 (GPU 0)]\n",
      " \n",
      "\n",
      "2300\n",
      "\n",
      " Variable containing:\n",
      " 0.3772\n",
      "[torch.cuda.FloatTensor of size 1 (GPU 0)]\n",
      " \n",
      "\n",
      "2400\n",
      "\n",
      " Variable containing:\n",
      "1.00000e-02 *\n",
      "  6.9001\n",
      "[torch.cuda.FloatTensor of size 1 (GPU 0)]\n",
      " \n",
      "\n",
      "2500\n",
      "\n",
      " Variable containing:\n",
      "1.00000e-02 *\n",
      "  4.0567\n",
      "[torch.cuda.FloatTensor of size 1 (GPU 0)]\n",
      " \n",
      "\n",
      "2600\n",
      "\n",
      " Variable containing:\n",
      "1.00000e-02 *\n",
      "  6.3800\n",
      "[torch.cuda.FloatTensor of size 1 (GPU 0)]\n",
      " \n",
      "\n",
      "2700\n",
      "\n",
      " Variable containing:\n",
      "1.00000e-02 *\n",
      "  3.9284\n",
      "[torch.cuda.FloatTensor of size 1 (GPU 0)]\n",
      " \n",
      "\n",
      "2800\n",
      "\n",
      " Variable containing:\n",
      "1.00000e-02 *\n",
      "  4.0958\n",
      "[torch.cuda.FloatTensor of size 1 (GPU 0)]\n",
      " \n",
      "\n",
      "2900\n",
      "\n",
      " Variable containing:\n",
      "1.00000e-02 *\n",
      "  6.6111\n",
      "[torch.cuda.FloatTensor of size 1 (GPU 0)]\n",
      " \n",
      "\n",
      "3000\n",
      "\n",
      " Variable containing:\n",
      "1.00000e-02 *\n",
      "  9.6437\n",
      "[torch.cuda.FloatTensor of size 1 (GPU 0)]\n",
      " \n",
      "\n",
      "3100\n",
      "\n",
      " Variable containing:\n",
      " 0.1571\n",
      "[torch.cuda.FloatTensor of size 1 (GPU 0)]\n",
      " \n",
      "\n",
      "3200\n",
      "\n",
      " Variable containing:\n",
      "1.00000e-02 *\n",
      "  4.7126\n",
      "[torch.cuda.FloatTensor of size 1 (GPU 0)]\n",
      " \n",
      "\n",
      "3300\n",
      "\n",
      " Variable containing:\n",
      "1.00000e-02 *\n",
      "  5.1427\n",
      "[torch.cuda.FloatTensor of size 1 (GPU 0)]\n",
      " \n",
      "\n",
      "3400\n",
      "\n",
      " Variable containing:\n",
      " 0.1583\n",
      "[torch.cuda.FloatTensor of size 1 (GPU 0)]\n",
      " \n",
      "\n",
      "3500\n",
      "\n",
      " Variable containing:\n",
      "1.00000e-02 *\n",
      "  6.2577\n",
      "[torch.cuda.FloatTensor of size 1 (GPU 0)]\n",
      " \n",
      "\n",
      "3600\n",
      "\n",
      " Variable containing:\n",
      "1.00000e-02 *\n",
      "  7.2558\n",
      "[torch.cuda.FloatTensor of size 1 (GPU 0)]\n",
      " \n",
      "\n",
      "3700\n",
      "\n",
      " Variable containing:\n",
      " 0.1514\n",
      "[torch.cuda.FloatTensor of size 1 (GPU 0)]\n",
      " \n",
      "\n",
      "3800\n",
      "\n",
      " Variable containing:\n",
      "1.00000e-02 *\n",
      "  6.0912\n",
      "[torch.cuda.FloatTensor of size 1 (GPU 0)]\n",
      " \n",
      "\n",
      "3900\n",
      "\n",
      " Variable containing:\n",
      "1.00000e-02 *\n",
      "  5.9038\n",
      "[torch.cuda.FloatTensor of size 1 (GPU 0)]\n",
      " \n",
      "\n",
      "4000\n",
      "\n",
      " Variable containing:\n",
      " 0.1752\n",
      "[torch.cuda.FloatTensor of size 1 (GPU 0)]\n",
      " \n",
      "\n",
      "4100\n",
      "\n",
      " Variable containing:\n",
      " 0.1105\n",
      "[torch.cuda.FloatTensor of size 1 (GPU 0)]\n",
      " \n",
      "\n",
      "4200\n",
      "\n",
      " Variable containing:\n",
      "1.00000e-02 *\n",
      "  6.0856\n",
      "[torch.cuda.FloatTensor of size 1 (GPU 0)]\n",
      " \n",
      "\n",
      "4300\n",
      "\n",
      " Variable containing:\n",
      "1.00000e-02 *\n",
      "  4.4718\n",
      "[torch.cuda.FloatTensor of size 1 (GPU 0)]\n",
      " \n",
      "\n",
      "4400\n",
      "\n",
      " Variable containing:\n",
      " 0.1451\n",
      "[torch.cuda.FloatTensor of size 1 (GPU 0)]\n",
      " \n",
      "\n",
      "4500\n",
      "\n",
      " Variable containing:\n",
      "1.00000e-02 *\n",
      "  7.1678\n",
      "[torch.cuda.FloatTensor of size 1 (GPU 0)]\n",
      " \n",
      "\n",
      "4600\n",
      "\n",
      " Variable containing:\n",
      "1.00000e-02 *\n",
      "  6.6077\n",
      "[torch.cuda.FloatTensor of size 1 (GPU 0)]\n",
      " \n",
      "\n",
      "4700\n",
      "\n",
      " Variable containing:\n",
      " 0.1883\n",
      "[torch.cuda.FloatTensor of size 1 (GPU 0)]\n",
      " \n",
      "\n",
      "4800\n",
      "\n",
      " Variable containing:\n",
      "1.00000e-02 *\n",
      "  4.4414\n",
      "[torch.cuda.FloatTensor of size 1 (GPU 0)]\n",
      " \n",
      "\n",
      "4900\n",
      "\n",
      " Variable containing:\n",
      " 0.3852\n",
      "[torch.cuda.FloatTensor of size 1 (GPU 0)]\n",
      " \n",
      "\n"
     ]
    }
   ],
   "source": [
    "for i in range(num_epochs):\n",
    "    inp , label = random_training_set()\n",
    "    hidden,cell = model.init_hidden()\n",
    "    loss = 0\n",
    "    optimizer.zero_grad()\n",
    "    for j in range(chunk_len-1):\n",
    "        x  = inp[j]\n",
    "        y_ = label[j]\n",
    "        y,hidden,cell = model(x,hidden,cell)\n",
    "        loss += loss_func(y,y_)\n",
    "    loss.backward()\n",
    "    optimizer.step()\n",
    "    if i % 100 == 0:\n",
    "        print(i)\n",
    "        print(\"\\n\",loss/chunk_len,\"\\n\")"
   ]
  },
  {
   "cell_type": "markdown",
   "metadata": {
    "collapsed": true
   },
   "source": [
    "### 4. Inference"
   ]
  },
  {
   "cell_type": "code",
   "execution_count": 12,
   "metadata": {
    "collapsed": true
   },
   "outputs": [],
   "source": [
    "def inference_set():    \n",
    "    inp = torch.from_numpy(data[:-1])\n",
    "    target = torch.from_numpy(data[1:,-1])\n",
    "    return Variable(inp).cuda(), Variable(target).cuda()"
   ]
  },
  {
   "cell_type": "code",
   "execution_count": 13,
   "metadata": {},
   "outputs": [
    {
     "data": {
      "text/plain": [
       "(2170, 18)"
      ]
     },
     "execution_count": 13,
     "metadata": {},
     "output_type": "execute_result"
    }
   ],
   "source": [
    "aa = data[:-1]\n",
    "aa.shape"
   ]
  },
  {
   "cell_type": "code",
   "execution_count": 14,
   "metadata": {
    "collapsed": true
   },
   "outputs": [],
   "source": [
    "def inference():\n",
    "    inp , label = inference_set()\n",
    "    hidden,cell = model.init_hidden()\n",
    "    optimizer.zero_grad()\n",
    "    real=[]\n",
    "    predict=[]\n",
    "    for j in range(len(inp)-1):\n",
    "        x  = inp[j]\n",
    "        y_ = label[j]\n",
    "        y,hidden,cell = model(x,hidden,cell)\n",
    "        #print(y_.cpu().data.numpy()[0])\n",
    "        real.append(y_.cpu().data.numpy()[0])\n",
    "        #print(y.cpu().data.numpy()[0][0])\n",
    "        predict.append(y.cpu().data.numpy()[0][0])\n",
    "        #predict.np.append(y.cpu())\n",
    "    return real , predict"
   ]
  },
  {
   "cell_type": "code",
   "execution_count": 15,
   "metadata": {
    "collapsed": true
   },
   "outputs": [],
   "source": [
    "real, predict = inference()"
   ]
  },
  {
   "cell_type": "code",
   "execution_count": 17,
   "metadata": {},
   "outputs": [
    {
     "data": {
      "text/plain": [
       "[6.6231279,\n",
       " 6.6231279,\n",
       " 6.6231279,\n",
       " 6.6231279,\n",
       " 6.6231279,\n",
       " 6.6231279,\n",
       " 6.6231279,\n",
       " 6.6231279,\n",
       " 6.6231279,\n",
       " 6.6231279,\n",
       " 6.6231279,\n",
       " 6.6231279,\n",
       " 6.6231279,\n",
       " 6.6231279,\n",
       " 6.6231279,\n",
       " 6.6231279,\n",
       " 6.6231279,\n",
       " 6.6231279,\n",
       " 6.6231279,\n",
       " 6.6231279,\n",
       " 6.6231279,\n",
       " 6.6231279,\n",
       " 6.6231279,\n",
       " 6.6231279,\n",
       " 6.6231279,\n",
       " 6.6231279,\n",
       " 6.6231279,\n",
       " 6.6231279,\n",
       " 6.6231279,\n",
       " 6.6231279]"
      ]
     },
     "execution_count": 17,
     "metadata": {},
     "output_type": "execute_result"
    }
   ],
   "source": [
    "predict[1000:1030]"
   ]
  },
  {
   "cell_type": "code",
   "execution_count": 16,
   "metadata": {},
   "outputs": [
    {
     "data": {
      "image/png": "[encoded data removed]",
      "text/plain": [
       "<matplotlib.figure.Figure at 0x7fd985215f98>"
      ]
     },
     "metadata": {},
     "output_type": "display_data"
    }
   ],
   "source": [
    "plt.figure\n",
    "plt.plot(real)\n",
    "plt.plot(predict)\n",
    "plt.show()"
   ]
  },
  {
   "cell_type": "code",
   "execution_count": null,
   "metadata": {
    "collapsed": true
   },
   "outputs": [],
   "source": []
  }
 ],
 "metadata": {
  "kernelspec": {
   "display_name": "Python 2",
   "language": "python",
   "name": "python2"
  },
  "language_info": {
   "codemirror_mode": {
    "name": "ipython",
    "version": 3
   },
   "file_extension": ".py",
   "mimetype": "text/x-python",
   "name": "python",
   "nbconvert_exporter": "python",
   "pygments_lexer": "ipython3",
   "version": "3.6.2"
  }
 },
 "nbformat": 4,
 "nbformat_minor": 1
}
