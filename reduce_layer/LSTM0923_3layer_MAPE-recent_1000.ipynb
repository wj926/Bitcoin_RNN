{
 "cells": [
  {
   "cell_type": "markdown",
   "metadata": {},
   "source": [
    "# Bitcoin Recurrent Neural Network\n",
    "- Recent 1000\n",
    "- Long short-term memory(LSTM)\n"
   ]
  },
  {
   "cell_type": "markdown",
   "metadata": {},
   "source": [
    "## 1. Settings\n",
    "### 1) Import required libraries"
   ]
  },
  {
   "cell_type": "code",
   "execution_count": 9,
   "metadata": {
    "collapsed": true
   },
   "outputs": [],
   "source": [
    "import torch\n",
    "import torch.nn as nn\n",
    "from torch.autograd import Variable\n",
    "from visdom import Visdom\n",
    "viz = Visdom()"
   ]
  },
  {
   "cell_type": "code",
   "execution_count": 10,
   "metadata": {
    "collapsed": true
   },
   "outputs": [],
   "source": [
    "import string\n",
    "import random\n",
    "import re\n",
    "import time, math\n",
    "from utils2 import *\n",
    "import matplotlib.pyplot as plt"
   ]
  },
  {
   "cell_type": "markdown",
   "metadata": {},
   "source": [
    "## 2) Hyperparameter"
   ]
  },
  {
   "cell_type": "code",
   "execution_count": 17,
   "metadata": {
    "collapsed": true
   },
   "outputs": [],
   "source": [
    "num_epochs = 5000\n",
    "hidden_size = 100\n",
    "output_size=1\n",
    "batch_size =1\n",
    "num_layers = 3\n",
    "lr = 0.002\n",
    "NUM_STEPS = 500\n",
    "chunk_len=500\n",
    "num_layers = 1\n",
    "recent_num =1000\n",
    "path = '../data/bitstamp.csv'"
   ]
  },
  {
   "cell_type": "code",
   "execution_count": 18,
   "metadata": {
    "collapsed": true
   },
   "outputs": [],
   "source": [
    "# train Parameters\n",
    "seq_length = 200\n",
    "sub_seq_length = 150\n",
    "data_dim = 18\n",
    "hidden_dim = 10\n",
    "output_dim = 1\n",
    "learning_rate = 0.01\n",
    "iterations = 101\n",
    "plot_name = 'LSTM_new_01'"
   ]
  },
  {
   "cell_type": "markdown",
   "metadata": {},
   "source": [
    "## 2. Data"
   ]
  },
  {
   "cell_type": "markdown",
   "metadata": {},
   "source": [
    "### 2) Get data"
   ]
  },
  {
   "cell_type": "code",
   "execution_count": 19,
   "metadata": {
    "collapsed": true
   },
   "outputs": [],
   "source": [
    "data_raw = data_loading(path)"
   ]
  },
  {
   "cell_type": "code",
   "execution_count": 20,
   "metadata": {},
   "outputs": [
    {
     "data": {
      "text/plain": [
       "array([  2.35227598e+04,   2.42228105e+04,   9.98175250e+05,\n",
       "         1.38100004e+01,   5.27782900e+06,   8.50000024e-01,\n",
       "         6.78738750e+06,   2.36772000e+05,   2.27242000e+05,\n",
       "         4.77000008e+01,   3.28761011e+03,   1.28863000e+03,\n",
       "         1.13500004e+01,   7.38174023e+03,   6.66230011e+00,\n",
       "         1.09690804e+02,   9.67999995e-01,   8.26722336e+00], dtype=float32)"
      ]
     },
     "execution_count": 20,
     "metadata": {},
     "output_type": "execute_result"
    }
   ],
   "source": [
    "data_raw[-1]"
   ]
  },
  {
   "cell_type": "code",
   "execution_count": 21,
   "metadata": {
    "collapsed": true
   },
   "outputs": [],
   "source": [
    "data = data_raw[-recent_num:,:]"
   ]
  },
  {
   "cell_type": "code",
   "execution_count": 22,
   "metadata": {},
   "outputs": [
    {
     "data": {
      "text/plain": [
       "(1000, 18)"
      ]
     },
     "execution_count": 22,
     "metadata": {},
     "output_type": "execute_result"
    }
   ],
   "source": [
    "data.shape"
   ]
  },
  {
   "cell_type": "markdown",
   "metadata": {},
   "source": [
    "### 3) Chunk into input & label"
   ]
  },
  {
   "cell_type": "code",
   "execution_count": 23,
   "metadata": {},
   "outputs": [
    {
     "name": "stdout",
     "output_type": "stream",
     "text": [
      "(500, 18)\n"
     ]
    }
   ],
   "source": [
    "def random_chunk():\n",
    "    start_index = random.randint(0, len(data) - chunk_len)\n",
    "    end_index = start_index + chunk_len + 1\n",
    "    return data[start_index:end_index]\n",
    "\n",
    "print(random_chunk().shape)"
   ]
  },
  {
   "cell_type": "code",
   "execution_count": 24,
   "metadata": {
    "collapsed": true
   },
   "outputs": [],
   "source": [
    "def random_training_set():    \n",
    "    chunk = random_chunk()\n",
    "    inp = torch.from_numpy(chunk[:-1])\n",
    "    target = torch.from_numpy(chunk[1:,-1])\n",
    "    return Variable(inp).cuda(), Variable(target).cuda()"
   ]
  },
  {
   "cell_type": "markdown",
   "metadata": {},
   "source": [
    "## 3. Model & Optimizer\n",
    "### 1) Model"
   ]
  },
  {
   "cell_type": "code",
   "execution_count": 25,
   "metadata": {
    "collapsed": true
   },
   "outputs": [],
   "source": [
    "class RNN(nn.Module):\n",
    "    def __init__(self, input_size, hidden_size, output_size, num_layers=num_layers):\n",
    "        super(RNN, self).__init__()\n",
    "        self.input_size = input_size\n",
    "        self.hidden_size = hidden_size\n",
    "        self.output_size = output_size\n",
    "        self.num_layers = num_layers\n",
    "        self.encoder = nn.Linear(input_size, hidden_size)\n",
    "        self.rnn = nn.LSTM(hidden_size,hidden_size,num_layers)\n",
    "        self.decoder = nn.Linear(hidden_size, output_size)\n",
    "    def forward(self, input, hidden,cell):\n",
    "        out = self.encoder(input.view(1,-1))\n",
    "        #out = self.encoder(input)\n",
    "        out,(hidden,cell) = self.rnn(out.view(1,1,-1),(hidden,cell))\n",
    "        out = self.decoder(out.view(batch_size,-1))\n",
    "        return out,hidden,cell\n",
    "    def init_hidden(self):\n",
    "        hidden = Variable(torch.zeros(num_layers,batch_size,hidden_size)).cuda()\n",
    "        cell = Variable(torch.zeros(num_layers,batch_size,hidden_size)).cuda()\n",
    "        return hidden,cell\n",
    "model = RNN(data.shape[1], hidden_size, output_size, num_layers).cuda()"
   ]
  },
  {
   "cell_type": "markdown",
   "metadata": {},
   "source": [
    "### 2) Loss & Optimizer"
   ]
  },
  {
   "cell_type": "code",
   "execution_count": 26,
   "metadata": {
    "collapsed": true
   },
   "outputs": [],
   "source": [
    "optimizer = torch.optim.Adam(model.parameters(), lr=lr)\n",
    "loss_func = nn.MSELoss()"
   ]
  },
  {
   "cell_type": "markdown",
   "metadata": {},
   "source": [
    "### 3) Training"
   ]
  },
  {
   "cell_type": "code",
   "execution_count": 27,
   "metadata": {},
   "outputs": [
    {
     "name": "stdout",
     "output_type": "stream",
     "text": [
      "0\n",
      "\n",
      " Variable containing:\n",
      " 46.1901\n",
      "[torch.cuda.FloatTensor of size 1 (GPU 0)]\n",
      " \n",
      "\n",
      "100\n",
      "\n",
      " Variable containing:\n",
      " 2.2725\n",
      "[torch.cuda.FloatTensor of size 1 (GPU 0)]\n",
      " \n",
      "\n",
      "200\n",
      "\n",
      " Variable containing:\n",
      " 0.1683\n",
      "[torch.cuda.FloatTensor of size 1 (GPU 0)]\n",
      " \n",
      "\n",
      "300\n",
      "\n",
      " Variable containing:\n",
      " 0.2579\n",
      "[torch.cuda.FloatTensor of size 1 (GPU 0)]\n",
      " \n",
      "\n",
      "400\n",
      "\n",
      " Variable containing:\n",
      " 0.2504\n",
      "[torch.cuda.FloatTensor of size 1 (GPU 0)]\n",
      " \n",
      "\n",
      "500\n",
      "\n",
      " Variable containing:\n",
      " 0.2095\n",
      "[torch.cuda.FloatTensor of size 1 (GPU 0)]\n",
      " \n",
      "\n",
      "600\n",
      "\n",
      " Variable containing:\n",
      "1.00000e-02 *\n",
      "  8.9671\n",
      "[torch.cuda.FloatTensor of size 1 (GPU 0)]\n",
      " \n",
      "\n",
      "700\n",
      "\n",
      " Variable containing:\n",
      " 0.1814\n",
      "[torch.cuda.FloatTensor of size 1 (GPU 0)]\n",
      " \n",
      "\n",
      "800\n",
      "\n",
      " Variable containing:\n",
      " 0.4345\n",
      "[torch.cuda.FloatTensor of size 1 (GPU 0)]\n",
      " \n",
      "\n",
      "900\n",
      "\n",
      " Variable containing:\n",
      " 0.2243\n",
      "[torch.cuda.FloatTensor of size 1 (GPU 0)]\n",
      " \n",
      "\n",
      "1000\n",
      "\n",
      " Variable containing:\n",
      " 0.1560\n",
      "[torch.cuda.FloatTensor of size 1 (GPU 0)]\n",
      " \n",
      "\n",
      "1100\n",
      "\n",
      " Variable containing:\n",
      " 0.2047\n",
      "[torch.cuda.FloatTensor of size 1 (GPU 0)]\n",
      " \n",
      "\n",
      "1200\n",
      "\n",
      " Variable containing:\n",
      " 0.1198\n",
      "[torch.cuda.FloatTensor of size 1 (GPU 0)]\n",
      " \n",
      "\n",
      "1300\n",
      "\n",
      " Variable containing:\n",
      " 0.1876\n",
      "[torch.cuda.FloatTensor of size 1 (GPU 0)]\n",
      " \n",
      "\n",
      "1400\n",
      "\n",
      " Variable containing:\n",
      " 0.1186\n",
      "[torch.cuda.FloatTensor of size 1 (GPU 0)]\n",
      " \n",
      "\n",
      "1500\n",
      "\n",
      " Variable containing:\n",
      " 0.3257\n",
      "[torch.cuda.FloatTensor of size 1 (GPU 0)]\n",
      " \n",
      "\n",
      "1600\n",
      "\n",
      " Variable containing:\n",
      " 0.1384\n",
      "[torch.cuda.FloatTensor of size 1 (GPU 0)]\n",
      " \n",
      "\n",
      "1700\n",
      "\n",
      " Variable containing:\n",
      " 0.1555\n",
      "[torch.cuda.FloatTensor of size 1 (GPU 0)]\n",
      " \n",
      "\n",
      "1800\n",
      "\n",
      " Variable containing:\n",
      "1.00000e-02 *\n",
      "  6.4167\n",
      "[torch.cuda.FloatTensor of size 1 (GPU 0)]\n",
      " \n",
      "\n",
      "1900\n",
      "\n",
      " Variable containing:\n",
      "1.00000e-02 *\n",
      "  8.9081\n",
      "[torch.cuda.FloatTensor of size 1 (GPU 0)]\n",
      " \n",
      "\n",
      "2000\n",
      "\n",
      " Variable containing:\n",
      "1.00000e-02 *\n",
      "  6.8857\n",
      "[torch.cuda.FloatTensor of size 1 (GPU 0)]\n",
      " \n",
      "\n",
      "2100\n",
      "\n",
      " Variable containing:\n",
      "1.00000e-02 *\n",
      "  9.1152\n",
      "[torch.cuda.FloatTensor of size 1 (GPU 0)]\n",
      " \n",
      "\n",
      "2200\n",
      "\n",
      " Variable containing:\n",
      " 0.1042\n",
      "[torch.cuda.FloatTensor of size 1 (GPU 0)]\n",
      " \n",
      "\n",
      "2300\n",
      "\n",
      " Variable containing:\n",
      " 0.1389\n",
      "[torch.cuda.FloatTensor of size 1 (GPU 0)]\n",
      " \n",
      "\n",
      "2400\n",
      "\n",
      " Variable containing:\n",
      "1.00000e-02 *\n",
      "  5.4428\n",
      "[torch.cuda.FloatTensor of size 1 (GPU 0)]\n",
      " \n",
      "\n",
      "2500\n",
      "\n",
      " Variable containing:\n",
      " 0.1369\n",
      "[torch.cuda.FloatTensor of size 1 (GPU 0)]\n",
      " \n",
      "\n",
      "2600\n",
      "\n",
      " Variable containing:\n",
      " 0.1887\n",
      "[torch.cuda.FloatTensor of size 1 (GPU 0)]\n",
      " \n",
      "\n",
      "2700\n",
      "\n",
      " Variable containing:\n",
      " 0.1424\n",
      "[torch.cuda.FloatTensor of size 1 (GPU 0)]\n",
      " \n",
      "\n",
      "2800\n",
      "\n",
      " Variable containing:\n",
      " 0.2554\n",
      "[torch.cuda.FloatTensor of size 1 (GPU 0)]\n",
      " \n",
      "\n",
      "2900\n",
      "\n",
      " Variable containing:\n",
      "1.00000e-02 *\n",
      "  6.7818\n",
      "[torch.cuda.FloatTensor of size 1 (GPU 0)]\n",
      " \n",
      "\n",
      "3000\n",
      "\n",
      " Variable containing:\n",
      "1.00000e-02 *\n",
      "  9.2867\n",
      "[torch.cuda.FloatTensor of size 1 (GPU 0)]\n",
      " \n",
      "\n",
      "3100\n",
      "\n",
      " Variable containing:\n",
      " 0.1234\n",
      "[torch.cuda.FloatTensor of size 1 (GPU 0)]\n",
      " \n",
      "\n",
      "3200\n",
      "\n",
      " Variable containing:\n",
      "1.00000e-02 *\n",
      "  6.8943\n",
      "[torch.cuda.FloatTensor of size 1 (GPU 0)]\n",
      " \n",
      "\n",
      "3300\n",
      "\n",
      " Variable containing:\n",
      " 0.3471\n",
      "[torch.cuda.FloatTensor of size 1 (GPU 0)]\n",
      " \n",
      "\n",
      "3400\n",
      "\n",
      " Variable containing:\n",
      " 0.1431\n",
      "[torch.cuda.FloatTensor of size 1 (GPU 0)]\n",
      " \n",
      "\n",
      "3500\n",
      "\n",
      " Variable containing:\n",
      "1.00000e-02 *\n",
      "  6.6507\n",
      "[torch.cuda.FloatTensor of size 1 (GPU 0)]\n",
      " \n",
      "\n",
      "3600\n",
      "\n",
      " Variable containing:\n",
      " 0.1273\n",
      "[torch.cuda.FloatTensor of size 1 (GPU 0)]\n",
      " \n",
      "\n",
      "3700\n",
      "\n",
      " Variable containing:\n",
      "1.00000e-02 *\n",
      "  7.6428\n",
      "[torch.cuda.FloatTensor of size 1 (GPU 0)]\n",
      " \n",
      "\n",
      "3800\n",
      "\n",
      " Variable containing:\n",
      " 0.1159\n",
      "[torch.cuda.FloatTensor of size 1 (GPU 0)]\n",
      " \n",
      "\n",
      "3900\n",
      "\n",
      " Variable containing:\n",
      "1.00000e-02 *\n",
      "  8.3587\n",
      "[torch.cuda.FloatTensor of size 1 (GPU 0)]\n",
      " \n",
      "\n",
      "4000\n",
      "\n",
      " Variable containing:\n",
      " 0.1696\n",
      "[torch.cuda.FloatTensor of size 1 (GPU 0)]\n",
      " \n",
      "\n",
      "4100\n",
      "\n",
      " Variable containing:\n",
      " 0.1094\n",
      "[torch.cuda.FloatTensor of size 1 (GPU 0)]\n",
      " \n",
      "\n",
      "4200\n",
      "\n",
      " Variable containing:\n",
      "1.00000e-02 *\n",
      "  7.0579\n",
      "[torch.cuda.FloatTensor of size 1 (GPU 0)]\n",
      " \n",
      "\n",
      "4300\n",
      "\n",
      " Variable containing:\n",
      " 0.1271\n",
      "[torch.cuda.FloatTensor of size 1 (GPU 0)]\n",
      " \n",
      "\n",
      "4400\n",
      "\n",
      " Variable containing:\n",
      " 0.1150\n",
      "[torch.cuda.FloatTensor of size 1 (GPU 0)]\n",
      " \n",
      "\n",
      "4500\n",
      "\n",
      " Variable containing:\n",
      " 0.1241\n",
      "[torch.cuda.FloatTensor of size 1 (GPU 0)]\n",
      " \n",
      "\n",
      "4600\n",
      "\n",
      " Variable containing:\n",
      "1.00000e-02 *\n",
      "  7.3193\n",
      "[torch.cuda.FloatTensor of size 1 (GPU 0)]\n",
      " \n",
      "\n",
      "4700\n",
      "\n",
      " Variable containing:\n",
      " 0.1361\n",
      "[torch.cuda.FloatTensor of size 1 (GPU 0)]\n",
      " \n",
      "\n",
      "4800\n",
      "\n",
      " Variable containing:\n",
      "1.00000e-02 *\n",
      "  8.8951\n",
      "[torch.cuda.FloatTensor of size 1 (GPU 0)]\n",
      " \n",
      "\n",
      "4900\n",
      "\n",
      " Variable containing:\n",
      " 0.1144\n",
      "[torch.cuda.FloatTensor of size 1 (GPU 0)]\n",
      " \n",
      "\n"
     ]
    }
   ],
   "source": [
    "for i in range(num_epochs):\n",
    "    inp , label = random_training_set()\n",
    "    hidden,cell = model.init_hidden()\n",
    "    loss = 0\n",
    "    optimizer.zero_grad()\n",
    "    for j in range(chunk_len-1):\n",
    "        x  = inp[j]\n",
    "        y_ = label[j]\n",
    "        y,hidden,cell = model(x,hidden,cell)\n",
    "        loss += loss_func(y,y_)\n",
    "    loss.backward()\n",
    "    optimizer.step()\n",
    "    if i % 100 == 0:\n",
    "        print(i)\n",
    "        print(\"\\n\",loss/chunk_len,\"\\n\")"
   ]
  },
  {
   "cell_type": "markdown",
   "metadata": {
    "collapsed": true
   },
   "source": [
    "### 4. Inference"
   ]
  },
  {
   "cell_type": "code",
   "execution_count": 40,
   "metadata": {
    "collapsed": true
   },
   "outputs": [],
   "source": [
    "def inference_set():    \n",
    "    inp = torch.from_numpy(data[:-1])\n",
    "    target = torch.from_numpy(data[1:,-1])\n",
    "    return Variable(inp).cuda(), Variable(target).cuda()"
   ]
  },
  {
   "cell_type": "code",
   "execution_count": 41,
   "metadata": {},
   "outputs": [
    {
     "data": {
      "text/plain": [
       "(999, 18)"
      ]
     },
     "execution_count": 41,
     "metadata": {},
     "output_type": "execute_result"
    }
   ],
   "source": [
    "aa = data[:-1]\n",
    "aa.shape"
   ]
  },
  {
   "cell_type": "code",
   "execution_count": 42,
   "metadata": {
    "collapsed": true
   },
   "outputs": [],
   "source": [
    "def inference():\n",
    "    inp , label = inference_set()\n",
    "    hidden,cell = model.init_hidden()\n",
    "    optimizer.zero_grad()\n",
    "    real=[]\n",
    "    predict=[]\n",
    "    for j in range(len(inp)-1):\n",
    "        x  = inp[j]\n",
    "        y_ = label[j]\n",
    "        y,hidden,cell = model(x,hidden,cell)\n",
    "        #print(y_.cpu().data.numpy()[0])\n",
    "        real.append(y_.cpu().data.numpy()[0])\n",
    "        #print(y.cpu().data.numpy()[0][0])\n",
    "        predict.append(y.cpu().data.numpy()[0][0])\n",
    "        #predict.np.append(y.cpu())\n",
    "    return real , predict"
   ]
  },
  {
   "cell_type": "code",
   "execution_count": 43,
   "metadata": {
    "collapsed": true
   },
   "outputs": [],
   "source": [
    "real, predict = inference()"
   ]
  },
  {
   "cell_type": "code",
   "execution_count": 44,
   "metadata": {},
   "outputs": [
    {
     "data": {
      "image/png": "[encoded data removed]",
      "text/plain": [
       "<matplotlib.figure.Figure at 0x7f3258056c50>"
      ]
     },
     "metadata": {},
     "output_type": "display_data"
    }
   ],
   "source": [
    "plt.figure\n",
    "plt.plot(np.exp(real))\n",
    "plt.plot(np.exp(predict))\n",
    "plt.show()"
   ]
  },
  {
   "cell_type": "code",
   "execution_count": 45,
   "metadata": {},
   "outputs": [
    {
     "data": {
      "text/plain": [
       "[5.9130974,\n",
       " 5.9375362,\n",
       " 5.9298286,\n",
       " 5.9358988,\n",
       " 5.9394603,\n",
       " 5.9371667,\n",
       " 5.9098206,\n",
       " 5.9200492,\n",
       " 5.9260454,\n",
       " 5.9298549]"
      ]
     },
     "execution_count": 45,
     "metadata": {},
     "output_type": "execute_result"
    }
   ],
   "source": [
    "real[0:10]"
   ]
  },
  {
   "cell_type": "code",
   "execution_count": 46,
   "metadata": {},
   "outputs": [
    {
     "data": {
      "text/plain": [
       "[4.9092855,\n",
       " 5.6693697,\n",
       " 5.6196537,\n",
       " 5.6216269,\n",
       " 5.6709661,\n",
       " 5.6290512,\n",
       " 5.6719818,\n",
       " 5.6291885,\n",
       " 5.5668364,\n",
       " 5.5659323]"
      ]
     },
     "execution_count": 46,
     "metadata": {},
     "output_type": "execute_result"
    }
   ],
   "source": [
    "predict[0:10]"
   ]
  },
  {
   "cell_type": "code",
   "execution_count": 47,
   "metadata": {
    "collapsed": true
   },
   "outputs": [],
   "source": [
    "MAPE = np.sum([np.abs((np.exp(real)-np.exp(predict)))/np.exp(predict)])/len(real)"
   ]
  },
  {
   "cell_type": "code",
   "execution_count": 48,
   "metadata": {},
   "outputs": [
    {
     "data": {
      "text/plain": [
       "0.36108860176407503"
      ]
     },
     "execution_count": 48,
     "metadata": {},
     "output_type": "execute_result"
    }
   ],
   "source": [
    "MAPE"
   ]
  },
  {
   "cell_type": "code",
   "execution_count": null,
   "metadata": {
    "collapsed": true
   },
   "outputs": [],
   "source": []
  },
  {
   "cell_type": "code",
   "execution_count": null,
   "metadata": {
    "collapsed": true
   },
   "outputs": [],
   "source": []
  }
 ],
 "metadata": {
  "kernelspec": {
   "display_name": "Python 3",
   "language": "python",
   "name": "python3"
  },
  "language_info": {
   "codemirror_mode": {
    "name": "ipython",
    "version": 3
   },
   "file_extension": ".py",
   "mimetype": "text/x-python",
   "name": "python",
   "nbconvert_exporter": "python",
   "pygments_lexer": "ipython3",
   "version": "3.6.2"
  }
 },
 "nbformat": 4,
 "nbformat_minor": 1
}
