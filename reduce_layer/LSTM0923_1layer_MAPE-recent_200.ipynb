{
 "cells": [
  {
   "cell_type": "markdown",
   "metadata": {},
   "source": [
    "# Bitcoin Recurrent Neural Network\n",
    "- Abstract\n",
    "- Long short-term memory(LSTM)\n"
   ]
  },
  {
   "cell_type": "markdown",
   "metadata": {},
   "source": [
    "## 1. Settings\n",
    "### 1) Import required libraries"
   ]
  },
  {
   "cell_type": "code",
   "execution_count": 1,
   "metadata": {
    "collapsed": true
   },
   "outputs": [],
   "source": [
    "import torch\n",
    "import torch.nn as nn\n",
    "from torch.autograd import Variable\n",
    "from visdom import Visdom\n",
    "viz = Visdom()"
   ]
  },
  {
   "cell_type": "code",
   "execution_count": 2,
   "metadata": {
    "collapsed": true
   },
   "outputs": [],
   "source": [
    "import string\n",
    "import random\n",
    "import re\n",
    "import time, math\n",
    "from utils2 import *\n",
    "import matplotlib.pyplot as plt"
   ]
  },
  {
   "cell_type": "markdown",
   "metadata": {},
   "source": [
    "## 2) Hyperparameter"
   ]
  },
  {
   "cell_type": "code",
   "execution_count": 3,
   "metadata": {
    "collapsed": true
   },
   "outputs": [],
   "source": [
    "num_epochs = 5000\n",
    "hidden_size = 30\n",
    "output_size=1\n",
    "batch_size =1\n",
    "num_layers = 1\n",
    "lr = 0.002\n",
    "NUM_STEPS = 500\n",
    "chunk_len=50\n",
    "num_layers = 1\n",
    "path = '../data/bitstamp.csv'"
   ]
  },
  {
   "cell_type": "code",
   "execution_count": 4,
   "metadata": {
    "collapsed": true
   },
   "outputs": [],
   "source": [
    "# train Parameters\n",
    "seq_length = 200\n",
    "sub_seq_length = 150\n",
    "data_dim = 18\n",
    "hidden_dim = 10\n",
    "output_dim = 1\n",
    "learning_rate = 0.01\n",
    "iterations = 101\n",
    "plot_name = 'LSTM_new_01'"
   ]
  },
  {
   "cell_type": "markdown",
   "metadata": {},
   "source": [
    "## 2. Data"
   ]
  },
  {
   "cell_type": "markdown",
   "metadata": {},
   "source": [
    "### 2) Get data"
   ]
  },
  {
   "cell_type": "code",
   "execution_count": 5,
   "metadata": {
    "collapsed": true
   },
   "outputs": [],
   "source": [
    "data_raw = data_loading(path)"
   ]
  },
  {
   "cell_type": "code",
   "execution_count": 6,
   "metadata": {},
   "outputs": [
    {
     "data": {
      "text/plain": [
       "array([  2.35227598e+04,   2.42228105e+04,   9.98175250e+05,\n",
       "         1.38100004e+01,   5.27782900e+06,   8.50000024e-01,\n",
       "         6.78738750e+06,   2.36772000e+05,   2.27242000e+05,\n",
       "         4.77000008e+01,   3.28761011e+03,   1.28863000e+03,\n",
       "         1.13500004e+01,   7.38174023e+03,   6.66230011e+00,\n",
       "         1.09690804e+02,   9.67999995e-01,   8.26722336e+00], dtype=float32)"
      ]
     },
     "execution_count": 6,
     "metadata": {},
     "output_type": "execute_result"
    }
   ],
   "source": [
    "data_raw[-1]"
   ]
  },
  {
   "cell_type": "code",
   "execution_count": 7,
   "metadata": {
    "collapsed": true
   },
   "outputs": [],
   "source": [
    "data = data_raw[-200:,:]"
   ]
  },
  {
   "cell_type": "code",
   "execution_count": 8,
   "metadata": {},
   "outputs": [
    {
     "data": {
      "text/plain": [
       "(200, 18)"
      ]
     },
     "execution_count": 8,
     "metadata": {},
     "output_type": "execute_result"
    }
   ],
   "source": [
    "data.shape"
   ]
  },
  {
   "cell_type": "markdown",
   "metadata": {},
   "source": [
    "### 3) Chunk into input & label"
   ]
  },
  {
   "cell_type": "code",
   "execution_count": 9,
   "metadata": {},
   "outputs": [
    {
     "name": "stdout",
     "output_type": "stream",
     "text": [
      "(51, 18)\n"
     ]
    }
   ],
   "source": [
    "def random_chunk():\n",
    "    start_index = random.randint(0, len(data) - chunk_len)\n",
    "    end_index = start_index + chunk_len + 1\n",
    "    return data[start_index:end_index]\n",
    "\n",
    "print(random_chunk().shape)"
   ]
  },
  {
   "cell_type": "code",
   "execution_count": 10,
   "metadata": {
    "collapsed": true
   },
   "outputs": [],
   "source": [
    "def random_training_set():    \n",
    "    chunk = random_chunk()\n",
    "    inp = torch.from_numpy(chunk[:-1])\n",
    "    target = torch.from_numpy(chunk[1:,-1])\n",
    "    return Variable(inp).cuda(), Variable(target).cuda()"
   ]
  },
  {
   "cell_type": "markdown",
   "metadata": {},
   "source": [
    "## 3. Model & Optimizer\n",
    "### 1) Model"
   ]
  },
  {
   "cell_type": "code",
   "execution_count": 11,
   "metadata": {
    "collapsed": true
   },
   "outputs": [],
   "source": [
    "class RNN(nn.Module):\n",
    "    def __init__(self, input_size, hidden_size, output_size, num_layers=num_layers):\n",
    "        super(RNN, self).__init__()\n",
    "        self.input_size = input_size\n",
    "        self.hidden_size = hidden_size\n",
    "        self.output_size = output_size\n",
    "        self.num_layers = num_layers\n",
    "        self.encoder = nn.Linear(input_size, hidden_size)\n",
    "        self.rnn = nn.LSTM(hidden_size,hidden_size,num_layers)\n",
    "        self.decoder = nn.Linear(hidden_size, output_size)\n",
    "    def forward(self, input, hidden,cell):\n",
    "        out = self.encoder(input.view(1,-1))\n",
    "        #out = self.encoder(input)\n",
    "        out,(hidden,cell) = self.rnn(out.view(1,1,-1),(hidden,cell))\n",
    "        out = self.decoder(out.view(batch_size,-1))\n",
    "        return out,hidden,cell\n",
    "    def init_hidden(self):\n",
    "        hidden = Variable(torch.zeros(num_layers,batch_size,hidden_size)).cuda()\n",
    "        cell = Variable(torch.zeros(num_layers,batch_size,hidden_size)).cuda()\n",
    "        return hidden,cell\n",
    "model = RNN(data.shape[1], hidden_size, output_size, num_layers).cuda()"
   ]
  },
  {
   "cell_type": "markdown",
   "metadata": {},
   "source": [
    "### 2) Loss & Optimizer"
   ]
  },
  {
   "cell_type": "code",
   "execution_count": 12,
   "metadata": {
    "collapsed": true
   },
   "outputs": [],
   "source": [
    "optimizer = torch.optim.Adam(model.parameters(), lr=lr)\n",
    "loss_func = nn.MSELoss()"
   ]
  },
  {
   "cell_type": "markdown",
   "metadata": {},
   "source": [
    "### 3) Training"
   ]
  },
  {
   "cell_type": "code",
   "execution_count": 13,
   "metadata": {},
   "outputs": [
    {
     "name": "stdout",
     "output_type": "stream",
     "text": [
      "0\n",
      "\n",
      " Variable containing:\n",
      " 59.0007\n",
      "[torch.cuda.FloatTensor of size 1 (GPU 0)]\n",
      " \n",
      "\n",
      "100\n",
      "\n",
      " Variable containing:\n",
      " 29.0105\n",
      "[torch.cuda.FloatTensor of size 1 (GPU 0)]\n",
      " \n",
      "\n",
      "200\n",
      "\n",
      " Variable containing:\n",
      " 18.8687\n",
      "[torch.cuda.FloatTensor of size 1 (GPU 0)]\n",
      " \n",
      "\n",
      "300\n",
      "\n",
      " Variable containing:\n",
      " 8.4886\n",
      "[torch.cuda.FloatTensor of size 1 (GPU 0)]\n",
      " \n",
      "\n",
      "400\n",
      "\n",
      " Variable containing:\n",
      " 4.3766\n",
      "[torch.cuda.FloatTensor of size 1 (GPU 0)]\n",
      " \n",
      "\n",
      "500\n",
      "\n",
      " Variable containing:\n",
      " 7.3968\n",
      "[torch.cuda.FloatTensor of size 1 (GPU 0)]\n",
      " \n",
      "\n",
      "600\n",
      "\n",
      " Variable containing:\n",
      " 5.6455\n",
      "[torch.cuda.FloatTensor of size 1 (GPU 0)]\n",
      " \n",
      "\n",
      "700\n",
      "\n",
      " Variable containing:\n",
      " 0.1043\n",
      "[torch.cuda.FloatTensor of size 1 (GPU 0)]\n",
      " \n",
      "\n",
      "800\n",
      "\n",
      " Variable containing:\n",
      " 1.4837\n",
      "[torch.cuda.FloatTensor of size 1 (GPU 0)]\n",
      " \n",
      "\n",
      "900\n",
      "\n",
      " Variable containing:\n",
      " 4.1439\n",
      "[torch.cuda.FloatTensor of size 1 (GPU 0)]\n",
      " \n",
      "\n",
      "1000\n",
      "\n",
      " Variable containing:\n",
      " 0.5343\n",
      "[torch.cuda.FloatTensor of size 1 (GPU 0)]\n",
      " \n",
      "\n",
      "1100\n",
      "\n",
      " Variable containing:\n",
      " 2.8850\n",
      "[torch.cuda.FloatTensor of size 1 (GPU 0)]\n",
      " \n",
      "\n",
      "1200\n",
      "\n",
      " Variable containing:\n",
      " 1.2991\n",
      "[torch.cuda.FloatTensor of size 1 (GPU 0)]\n",
      " \n",
      "\n",
      "1300\n",
      "\n",
      " Variable containing:\n",
      " 2.7495\n",
      "[torch.cuda.FloatTensor of size 1 (GPU 0)]\n",
      " \n",
      "\n",
      "1400\n",
      "\n",
      " Variable containing:\n",
      " 0.6861\n",
      "[torch.cuda.FloatTensor of size 1 (GPU 0)]\n",
      " \n",
      "\n",
      "1500\n",
      "\n",
      " Variable containing:\n",
      " 0.6561\n",
      "[torch.cuda.FloatTensor of size 1 (GPU 0)]\n",
      " \n",
      "\n",
      "1600\n",
      "\n",
      " Variable containing:\n",
      " 0.7987\n",
      "[torch.cuda.FloatTensor of size 1 (GPU 0)]\n",
      " \n",
      "\n",
      "1700\n",
      "\n",
      " Variable containing:\n",
      " 0.6507\n",
      "[torch.cuda.FloatTensor of size 1 (GPU 0)]\n",
      " \n",
      "\n",
      "1800\n",
      "\n",
      " Variable containing:\n",
      " 2.4420\n",
      "[torch.cuda.FloatTensor of size 1 (GPU 0)]\n",
      " \n",
      "\n",
      "1900\n",
      "\n",
      " Variable containing:\n",
      " 0.7619\n",
      "[torch.cuda.FloatTensor of size 1 (GPU 0)]\n",
      " \n",
      "\n",
      "2000\n",
      "\n",
      " Variable containing:\n",
      " 0.7331\n",
      "[torch.cuda.FloatTensor of size 1 (GPU 0)]\n",
      " \n",
      "\n",
      "2100\n",
      "\n",
      " Variable containing:\n",
      " 1.9007\n",
      "[torch.cuda.FloatTensor of size 1 (GPU 0)]\n",
      " \n",
      "\n",
      "2200\n",
      "\n",
      " Variable containing:\n",
      " 2.9814\n",
      "[torch.cuda.FloatTensor of size 1 (GPU 0)]\n",
      " \n",
      "\n",
      "2300\n",
      "\n",
      " Variable containing:\n",
      " 1.9425\n",
      "[torch.cuda.FloatTensor of size 1 (GPU 0)]\n",
      " \n",
      "\n",
      "2400\n",
      "\n",
      " Variable containing:\n",
      " 0.1890\n",
      "[torch.cuda.FloatTensor of size 1 (GPU 0)]\n",
      " \n",
      "\n",
      "2500\n",
      "\n",
      " Variable containing:\n",
      " 0.2766\n",
      "[torch.cuda.FloatTensor of size 1 (GPU 0)]\n",
      " \n",
      "\n",
      "2600\n",
      "\n",
      " Variable containing:\n",
      " 0.5681\n",
      "[torch.cuda.FloatTensor of size 1 (GPU 0)]\n",
      " \n",
      "\n",
      "2700\n",
      "\n",
      " Variable containing:\n",
      " 0.2199\n",
      "[torch.cuda.FloatTensor of size 1 (GPU 0)]\n",
      " \n",
      "\n",
      "2800\n",
      "\n",
      " Variable containing:\n",
      " 0.3653\n",
      "[torch.cuda.FloatTensor of size 1 (GPU 0)]\n",
      " \n",
      "\n",
      "2900\n",
      "\n",
      " Variable containing:\n",
      " 1.0118\n",
      "[torch.cuda.FloatTensor of size 1 (GPU 0)]\n",
      " \n",
      "\n",
      "3000\n",
      "\n",
      " Variable containing:\n",
      " 1.5678\n",
      "[torch.cuda.FloatTensor of size 1 (GPU 0)]\n",
      " \n",
      "\n",
      "3100\n",
      "\n",
      " Variable containing:\n",
      " 0.2704\n",
      "[torch.cuda.FloatTensor of size 1 (GPU 0)]\n",
      " \n",
      "\n",
      "3200\n",
      "\n",
      " Variable containing:\n",
      " 1.4112\n",
      "[torch.cuda.FloatTensor of size 1 (GPU 0)]\n",
      " \n",
      "\n",
      "3300\n",
      "\n",
      " Variable containing:\n",
      " 0.2932\n",
      "[torch.cuda.FloatTensor of size 1 (GPU 0)]\n",
      " \n",
      "\n",
      "3400\n",
      "\n",
      " Variable containing:\n",
      " 1.4244\n",
      "[torch.cuda.FloatTensor of size 1 (GPU 0)]\n",
      " \n",
      "\n",
      "3500\n",
      "\n",
      " Variable containing:\n",
      " 0.8603\n",
      "[torch.cuda.FloatTensor of size 1 (GPU 0)]\n",
      " \n",
      "\n",
      "3600\n",
      "\n",
      " Variable containing:\n",
      " 0.1544\n",
      "[torch.cuda.FloatTensor of size 1 (GPU 0)]\n",
      " \n",
      "\n",
      "3700\n",
      "\n",
      " Variable containing:\n",
      " 0.1011\n",
      "[torch.cuda.FloatTensor of size 1 (GPU 0)]\n",
      " \n",
      "\n",
      "3800\n",
      "\n",
      " Variable containing:\n",
      "1.00000e-02 *\n",
      "  5.5487\n",
      "[torch.cuda.FloatTensor of size 1 (GPU 0)]\n",
      " \n",
      "\n",
      "3900\n",
      "\n",
      " Variable containing:\n",
      " 0.1911\n",
      "[torch.cuda.FloatTensor of size 1 (GPU 0)]\n",
      " \n",
      "\n",
      "4000\n",
      "\n",
      " Variable containing:\n",
      " 0.1473\n",
      "[torch.cuda.FloatTensor of size 1 (GPU 0)]\n",
      " \n",
      "\n",
      "4100\n",
      "\n",
      " Variable containing:\n",
      "1.00000e-02 *\n",
      "  5.3659\n",
      "[torch.cuda.FloatTensor of size 1 (GPU 0)]\n",
      " \n",
      "\n",
      "4200\n",
      "\n",
      " Variable containing:\n",
      "1.00000e-02 *\n",
      "  6.9344\n",
      "[torch.cuda.FloatTensor of size 1 (GPU 0)]\n",
      " \n",
      "\n",
      "4300\n",
      "\n",
      " Variable containing:\n",
      " 0.1218\n",
      "[torch.cuda.FloatTensor of size 1 (GPU 0)]\n",
      " \n",
      "\n",
      "4400\n",
      "\n",
      " Variable containing:\n",
      " 0.1896\n",
      "[torch.cuda.FloatTensor of size 1 (GPU 0)]\n",
      " \n",
      "\n",
      "4500\n",
      "\n",
      " Variable containing:\n",
      " 0.1282\n",
      "[torch.cuda.FloatTensor of size 1 (GPU 0)]\n",
      " \n",
      "\n",
      "4600\n",
      "\n",
      " Variable containing:\n",
      " 0.1196\n",
      "[torch.cuda.FloatTensor of size 1 (GPU 0)]\n",
      " \n",
      "\n",
      "4700\n",
      "\n",
      " Variable containing:\n",
      "1.00000e-02 *\n",
      "  7.7416\n",
      "[torch.cuda.FloatTensor of size 1 (GPU 0)]\n",
      " \n",
      "\n",
      "4800\n",
      "\n",
      " Variable containing:\n",
      " 0.1347\n",
      "[torch.cuda.FloatTensor of size 1 (GPU 0)]\n",
      " \n",
      "\n",
      "4900\n",
      "\n",
      " Variable containing:\n",
      " 0.5256\n",
      "[torch.cuda.FloatTensor of size 1 (GPU 0)]\n",
      " \n",
      "\n"
     ]
    }
   ],
   "source": [
    "for i in range(num_epochs):\n",
    "    inp , label = random_training_set()\n",
    "    hidden,cell = model.init_hidden()\n",
    "    loss = 0\n",
    "    optimizer.zero_grad()\n",
    "    for j in range(chunk_len-1):\n",
    "        x  = inp[j]\n",
    "        y_ = label[j]\n",
    "        y,hidden,cell = model(x,hidden,cell)\n",
    "        loss += loss_func(y,y_)\n",
    "    loss.backward()\n",
    "    optimizer.step()\n",
    "    if i % 100 == 0:\n",
    "        print(i)\n",
    "        print(\"\\n\",loss/chunk_len,\"\\n\")"
   ]
  },
  {
   "cell_type": "markdown",
   "metadata": {
    "collapsed": true
   },
   "source": [
    "### 4. Inference"
   ]
  },
  {
   "cell_type": "code",
   "execution_count": 14,
   "metadata": {
    "collapsed": true
   },
   "outputs": [],
   "source": [
    "def inference_set():    \n",
    "    inp = torch.from_numpy(data[:-1])\n",
    "    target = torch.from_numpy(data[1:,-1])\n",
    "    return Variable(inp).cuda(), Variable(target).cuda()"
   ]
  },
  {
   "cell_type": "code",
   "execution_count": 15,
   "metadata": {},
   "outputs": [
    {
     "data": {
      "text/plain": [
       "(199, 18)"
      ]
     },
     "execution_count": 15,
     "metadata": {},
     "output_type": "execute_result"
    }
   ],
   "source": [
    "aa = data[:-1]\n",
    "aa.shape"
   ]
  },
  {
   "cell_type": "code",
   "execution_count": 16,
   "metadata": {
    "collapsed": true
   },
   "outputs": [],
   "source": [
    "def inference():\n",
    "    inp , label = inference_set()\n",
    "    hidden,cell = model.init_hidden()\n",
    "    optimizer.zero_grad()\n",
    "    real=[]\n",
    "    predict=[]\n",
    "    for j in range(len(inp)-1):\n",
    "        x  = inp[j]\n",
    "        y_ = label[j]\n",
    "        y,hidden,cell = model(x,hidden,cell)\n",
    "        #print(y_.cpu().data.numpy()[0])\n",
    "        real.append(y_.cpu().data.numpy()[0])\n",
    "        #print(y.cpu().data.numpy()[0][0])\n",
    "        predict.append(y.cpu().data.numpy()[0][0])\n",
    "        #predict.np.append(y.cpu())\n",
    "    return real , predict"
   ]
  },
  {
   "cell_type": "code",
   "execution_count": 17,
   "metadata": {
    "collapsed": true
   },
   "outputs": [],
   "source": [
    "real, predict = inference()"
   ]
  },
  {
   "cell_type": "code",
   "execution_count": 18,
   "metadata": {},
   "outputs": [
    {
     "data": {
      "image/png": "[encoded data removed]",
      "text/plain": [
       "<matplotlib.figure.Figure at 0x7ff4cf9665c0>"
      ]
     },
     "metadata": {},
     "output_type": "display_data"
    }
   ],
   "source": [
    "plt.figure\n",
    "plt.plot(np.exp(real))\n",
    "plt.plot(np.exp(predict))\n",
    "plt.show()"
   ]
  },
  {
   "cell_type": "code",
   "execution_count": 19,
   "metadata": {},
   "outputs": [
    {
     "data": {
      "text/plain": [
       "[6.9235892,\n",
       " 6.9287629,\n",
       " 6.9503355,\n",
       " 6.9523749,\n",
       " 6.9043593,\n",
       " 6.8851619,\n",
       " 6.9159122,\n",
       " 6.9100924,\n",
       " 6.9022098,\n",
       " 6.9143934]"
      ]
     },
     "execution_count": 19,
     "metadata": {},
     "output_type": "execute_result"
    }
   ],
   "source": [
    "real[0:10]"
   ]
  },
  {
   "cell_type": "code",
   "execution_count": 20,
   "metadata": {},
   "outputs": [
    {
     "data": {
      "text/plain": [
       "[7.0574994,\n",
       " 7.2619877,\n",
       " 7.2933297,\n",
       " 7.1636338,\n",
       " 7.3955827,\n",
       " 7.431129,\n",
       " 7.4360266,\n",
       " 7.298274,\n",
       " 7.2983184,\n",
       " 7.2983241]"
      ]
     },
     "execution_count": 20,
     "metadata": {},
     "output_type": "execute_result"
    }
   ],
   "source": [
    "predict[0:10]"
   ]
  },
  {
   "cell_type": "code",
   "execution_count": 21,
   "metadata": {
    "collapsed": true
   },
   "outputs": [],
   "source": [
    "MAPE = np.sum([np.abs((np.exp(real)-np.exp(predict)))/np.exp(predict)])/len(real)"
   ]
  },
  {
   "cell_type": "code",
   "execution_count": 22,
   "metadata": {},
   "outputs": [
    {
     "data": {
      "text/plain": [
       "0.32339901394314235"
      ]
     },
     "execution_count": 22,
     "metadata": {},
     "output_type": "execute_result"
    }
   ],
   "source": [
    "MAPE"
   ]
  },
  {
   "cell_type": "code",
   "execution_count": null,
   "metadata": {
    "collapsed": true
   },
   "outputs": [],
   "source": []
  },
  {
   "cell_type": "code",
   "execution_count": null,
   "metadata": {
    "collapsed": true
   },
   "outputs": [],
   "source": []
  }
 ],
 "metadata": {
  "kernelspec": {
   "display_name": "Python 3",
   "language": "python",
   "name": "python3"
  },
  "language_info": {
   "codemirror_mode": {
    "name": "ipython",
    "version": 3
   },
   "file_extension": ".py",
   "mimetype": "text/x-python",
   "name": "python",
   "nbconvert_exporter": "python",
   "pygments_lexer": "ipython3",
   "version": "3.6.2"
  }
 },
 "nbformat": 4,
 "nbformat_minor": 1
}
